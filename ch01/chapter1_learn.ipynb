{
 "cells": [
  {
   "cell_type": "code",
   "execution_count": 2,
   "id": "32067d00-3c72-4669-85fa-feafa3219942",
   "metadata": {},
   "outputs": [],
   "source": [
    "import pandas as pd"
   ]
  },
  {
   "cell_type": "code",
   "execution_count": 3,
   "id": "e479dca1-67bc-402e-bb52-50d9119e6f76",
   "metadata": {},
   "outputs": [],
   "source": [
    "from collections import Counter"
   ]
  },
  {
   "cell_type": "code",
   "execution_count": 4,
   "id": "526091e9-fb87-442e-83f5-d8ad8b89adc0",
   "metadata": {},
   "outputs": [],
   "source": [
    "import regex as re"
   ]
  },
  {
   "cell_type": "code",
   "execution_count": 5,
   "id": "549904ca-899d-4d74-9d96-01f57d49c37f",
   "metadata": {},
   "outputs": [],
   "source": [
    "import nltk"
   ]
  },
  {
   "cell_type": "code",
   "execution_count": 6,
   "id": "2d2db9cf-da4d-4057-a475-58d6fefa0ce5",
   "metadata": {},
   "outputs": [],
   "source": [
    "file = '../data/un-general-debates/un-general-debates-blueprint.csv'"
   ]
  },
  {
   "cell_type": "code",
   "execution_count": 7,
   "id": "cbfc2e9d-6391-403b-a4f6-05e144afeb9d",
   "metadata": {},
   "outputs": [],
   "source": [
    "df = pd.read_csv(file)"
   ]
  },
  {
   "cell_type": "code",
   "execution_count": 8,
   "id": "a030530f-19c2-488e-be2d-8f0f2bec0593",
   "metadata": {},
   "outputs": [
    {
     "data": {
      "text/html": [
       "<div>\n",
       "<style scoped>\n",
       "    .dataframe tbody tr th:only-of-type {\n",
       "        vertical-align: middle;\n",
       "    }\n",
       "\n",
       "    .dataframe tbody tr th {\n",
       "        vertical-align: top;\n",
       "    }\n",
       "\n",
       "    .dataframe thead th {\n",
       "        text-align: right;\n",
       "    }\n",
       "</style>\n",
       "<table border=\"1\" class=\"dataframe\">\n",
       "  <thead>\n",
       "    <tr style=\"text-align: right;\">\n",
       "      <th></th>\n",
       "      <th>session</th>\n",
       "      <th>year</th>\n",
       "      <th>country</th>\n",
       "      <th>country_name</th>\n",
       "      <th>speaker</th>\n",
       "      <th>position</th>\n",
       "      <th>text</th>\n",
       "    </tr>\n",
       "  </thead>\n",
       "  <tbody>\n",
       "    <tr>\n",
       "      <th>0</th>\n",
       "      <td>25</td>\n",
       "      <td>1970</td>\n",
       "      <td>ALB</td>\n",
       "      <td>Albania</td>\n",
       "      <td>Mr. NAS</td>\n",
       "      <td>NaN</td>\n",
       "      <td>33: May I first convey to our President the co...</td>\n",
       "    </tr>\n",
       "    <tr>\n",
       "      <th>1</th>\n",
       "      <td>25</td>\n",
       "      <td>1970</td>\n",
       "      <td>ARG</td>\n",
       "      <td>Argentina</td>\n",
       "      <td>Mr. DE PABLO PARDO</td>\n",
       "      <td>NaN</td>\n",
       "      <td>177.\\t : It is a fortunate coincidence that pr...</td>\n",
       "    </tr>\n",
       "    <tr>\n",
       "      <th>2</th>\n",
       "      <td>25</td>\n",
       "      <td>1970</td>\n",
       "      <td>AUS</td>\n",
       "      <td>Australia</td>\n",
       "      <td>Mr. McMAHON</td>\n",
       "      <td>NaN</td>\n",
       "      <td>100.\\t  It is a pleasure for me to extend to y...</td>\n",
       "    </tr>\n",
       "    <tr>\n",
       "      <th>3</th>\n",
       "      <td>25</td>\n",
       "      <td>1970</td>\n",
       "      <td>AUT</td>\n",
       "      <td>Austria</td>\n",
       "      <td>Mr. KIRCHSCHLAEGER</td>\n",
       "      <td>NaN</td>\n",
       "      <td>155.\\t  May I begin by expressing to Ambassado...</td>\n",
       "    </tr>\n",
       "    <tr>\n",
       "      <th>4</th>\n",
       "      <td>25</td>\n",
       "      <td>1970</td>\n",
       "      <td>BEL</td>\n",
       "      <td>Belgium</td>\n",
       "      <td>Mr. HARMEL</td>\n",
       "      <td>NaN</td>\n",
       "      <td>176. No doubt each of us, before coming up to ...</td>\n",
       "    </tr>\n",
       "  </tbody>\n",
       "</table>\n",
       "</div>"
      ],
      "text/plain": [
       "   session  year country country_name             speaker position  \\\n",
       "0       25  1970     ALB      Albania             Mr. NAS      NaN   \n",
       "1       25  1970     ARG    Argentina  Mr. DE PABLO PARDO      NaN   \n",
       "2       25  1970     AUS    Australia         Mr. McMAHON      NaN   \n",
       "3       25  1970     AUT      Austria  Mr. KIRCHSCHLAEGER      NaN   \n",
       "4       25  1970     BEL      Belgium          Mr. HARMEL      NaN   \n",
       "\n",
       "                                                text  \n",
       "0  33: May I first convey to our President the co...  \n",
       "1  177.\\t : It is a fortunate coincidence that pr...  \n",
       "2  100.\\t  It is a pleasure for me to extend to y...  \n",
       "3  155.\\t  May I begin by expressing to Ambassado...  \n",
       "4  176. No doubt each of us, before coming up to ...  "
      ]
     },
     "execution_count": 8,
     "metadata": {},
     "output_type": "execute_result"
    }
   ],
   "source": [
    "df.head()"
   ]
  },
  {
   "cell_type": "code",
   "execution_count": 9,
   "id": "50140750-805a-403b-a6a8-e1a3b7b4cf61",
   "metadata": {},
   "outputs": [],
   "source": [
    "df['len'] = df['text'].str.len()"
   ]
  },
  {
   "cell_type": "code",
   "execution_count": 10,
   "id": "c7c44fb1-eb5c-4d53-9f13-0437515164d3",
   "metadata": {},
   "outputs": [
    {
     "data": {
      "text/html": [
       "<div>\n",
       "<style scoped>\n",
       "    .dataframe tbody tr th:only-of-type {\n",
       "        vertical-align: middle;\n",
       "    }\n",
       "\n",
       "    .dataframe tbody tr th {\n",
       "        vertical-align: top;\n",
       "    }\n",
       "\n",
       "    .dataframe thead th {\n",
       "        text-align: right;\n",
       "    }\n",
       "</style>\n",
       "<table border=\"1\" class=\"dataframe\">\n",
       "  <thead>\n",
       "    <tr style=\"text-align: right;\">\n",
       "      <th></th>\n",
       "      <th>session</th>\n",
       "      <th>year</th>\n",
       "      <th>len</th>\n",
       "    </tr>\n",
       "  </thead>\n",
       "  <tbody>\n",
       "    <tr>\n",
       "      <th>count</th>\n",
       "      <td>7507.000000</td>\n",
       "      <td>7507.000000</td>\n",
       "      <td>7507.000000</td>\n",
       "    </tr>\n",
       "    <tr>\n",
       "      <th>mean</th>\n",
       "      <td>49.610763</td>\n",
       "      <td>1994.610763</td>\n",
       "      <td>17967.281604</td>\n",
       "    </tr>\n",
       "    <tr>\n",
       "      <th>std</th>\n",
       "      <td>12.892155</td>\n",
       "      <td>12.892155</td>\n",
       "      <td>7860.038463</td>\n",
       "    </tr>\n",
       "    <tr>\n",
       "      <th>min</th>\n",
       "      <td>25.000000</td>\n",
       "      <td>1970.000000</td>\n",
       "      <td>2362.000000</td>\n",
       "    </tr>\n",
       "    <tr>\n",
       "      <th>25%</th>\n",
       "      <td>39.000000</td>\n",
       "      <td>1984.000000</td>\n",
       "      <td>12077.000000</td>\n",
       "    </tr>\n",
       "    <tr>\n",
       "      <th>50%</th>\n",
       "      <td>51.000000</td>\n",
       "      <td>1996.000000</td>\n",
       "      <td>16424.000000</td>\n",
       "    </tr>\n",
       "    <tr>\n",
       "      <th>75%</th>\n",
       "      <td>61.000000</td>\n",
       "      <td>2006.000000</td>\n",
       "      <td>22479.500000</td>\n",
       "    </tr>\n",
       "    <tr>\n",
       "      <th>max</th>\n",
       "      <td>70.000000</td>\n",
       "      <td>2015.000000</td>\n",
       "      <td>72041.000000</td>\n",
       "    </tr>\n",
       "  </tbody>\n",
       "</table>\n",
       "</div>"
      ],
      "text/plain": [
       "           session         year           len\n",
       "count  7507.000000  7507.000000   7507.000000\n",
       "mean     49.610763  1994.610763  17967.281604\n",
       "std      12.892155    12.892155   7860.038463\n",
       "min      25.000000  1970.000000   2362.000000\n",
       "25%      39.000000  1984.000000  12077.000000\n",
       "50%      51.000000  1996.000000  16424.000000\n",
       "75%      61.000000  2006.000000  22479.500000\n",
       "max      70.000000  2015.000000  72041.000000"
      ]
     },
     "execution_count": 10,
     "metadata": {},
     "output_type": "execute_result"
    }
   ],
   "source": [
    "df.describe()"
   ]
  },
  {
   "cell_type": "code",
   "execution_count": 11,
   "id": "9d54fb7f-722f-4bbc-9d99-19e6519e4c2d",
   "metadata": {},
   "outputs": [
    {
     "name": "stdout",
     "output_type": "stream",
     "text": [
      "<class 'pandas.core.frame.DataFrame'>\n",
      "RangeIndex: 7507 entries, 0 to 7506\n",
      "Data columns (total 8 columns):\n",
      " #   Column        Non-Null Count  Dtype \n",
      "---  ------        --------------  ----- \n",
      " 0   session       7507 non-null   int64 \n",
      " 1   year          7507 non-null   int64 \n",
      " 2   country       7507 non-null   object\n",
      " 3   country_name  7507 non-null   object\n",
      " 4   speaker       7480 non-null   object\n",
      " 5   position      4502 non-null   object\n",
      " 6   text          7507 non-null   object\n",
      " 7   len           7507 non-null   int64 \n",
      "dtypes: int64(3), object(5)\n",
      "memory usage: 469.3+ KB\n"
     ]
    }
   ],
   "source": [
    "df.info()"
   ]
  },
  {
   "cell_type": "code",
   "execution_count": 12,
   "id": "efa0df62-721b-4404-badd-cb7484c85331",
   "metadata": {},
   "outputs": [
    {
     "data": {
      "text/plain": [
       "199"
      ]
     },
     "execution_count": 12,
     "metadata": {},
     "output_type": "execute_result"
    }
   ],
   "source": [
    "len(df['country'].unique())"
   ]
  },
  {
   "cell_type": "code",
   "execution_count": 13,
   "id": "802dc9bd-3730-409c-8ae5-7bbbddeaa289",
   "metadata": {},
   "outputs": [
    {
     "data": {
      "text/plain": [
       "session            0\n",
       "year               0\n",
       "country            0\n",
       "country_name       0\n",
       "speaker           27\n",
       "position        3005\n",
       "text               0\n",
       "len                0\n",
       "dtype: int64"
      ]
     },
     "execution_count": 13,
     "metadata": {},
     "output_type": "execute_result"
    }
   ],
   "source": [
    "df.isnull().astype(int).sum()"
   ]
  },
  {
   "cell_type": "code",
   "execution_count": 14,
   "id": "aa2766d5-cc1b-4a46-9387-339121bc5aca",
   "metadata": {},
   "outputs": [],
   "source": [
    "min_df = 2 "
   ]
  },
  {
   "cell_type": "code",
   "execution_count": 15,
   "id": "4fe39fcf-65ec-4e11-a321-09c4900c077c",
   "metadata": {},
   "outputs": [
    {
     "name": "stdout",
     "output_type": "stream",
     "text": [
      "<class 'pandas.core.frame.DataFrame'>\n",
      "RangeIndex: 7507 entries, 0 to 7506\n",
      "Data columns (total 8 columns):\n",
      " #   Column        Non-Null Count  Dtype \n",
      "---  ------        --------------  ----- \n",
      " 0   session       7507 non-null   int64 \n",
      " 1   year          7507 non-null   int64 \n",
      " 2   country       7507 non-null   object\n",
      " 3   country_name  7507 non-null   object\n",
      " 4   speaker       7480 non-null   object\n",
      " 5   position      4502 non-null   object\n",
      " 6   text          7507 non-null   object\n",
      " 7   len           7507 non-null   int64 \n",
      "dtypes: int64(3), object(5)\n",
      "memory usage: 469.3+ KB\n"
     ]
    }
   ],
   "source": [
    "df.info()"
   ]
  },
  {
   "cell_type": "code",
   "execution_count": 16,
   "id": "eef7da45-5d4f-43c3-9255-2475e87fc061",
   "metadata": {},
   "outputs": [],
   "source": [
    "def tokenize(text):\n",
    "    return re.findall(r'[\\w-]*\\p{L}[\\w-]*', text)"
   ]
  },
  {
   "cell_type": "code",
   "execution_count": 42,
   "id": "a125324c-c269-46dd-b800-aea21f56b8f6",
   "metadata": {},
   "outputs": [],
   "source": [
    "stopwords = set(nltk.corpus.stopwords.words('english'))"
   ]
  },
  {
   "cell_type": "code",
   "execution_count": 44,
   "id": "f233caf3-f847-4182-93b1-4d4fd64cb8ca",
   "metadata": {},
   "outputs": [],
   "source": [
    "def remove_stop(tokens):\n",
    "    return [t for t in tokens if t.lower() not in stopwords]"
   ]
  },
  {
   "cell_type": "code",
   "execution_count": 19,
   "id": "3220a852-19d4-4923-94af-c760e4897216",
   "metadata": {},
   "outputs": [],
   "source": [
    "pipeline = [str.lower, tokenize, remove_stop]"
   ]
  },
  {
   "cell_type": "code",
   "execution_count": 20,
   "id": "0b42a286-73dd-4da8-bdc6-d916778d5708",
   "metadata": {},
   "outputs": [],
   "source": [
    "def prepare(text, pipeline):\n",
    "    tokens = text\n",
    "    for transform in pipeline:\n",
    "        tokens = transform(tokens)\n",
    "    return tokens"
   ]
  },
  {
   "cell_type": "code",
   "execution_count": 28,
   "id": "025cef29-c888-4e76-925e-2cbd6068a192",
   "metadata": {},
   "outputs": [],
   "source": [
    "# counter = Counter(tokenize(\"You want from collections import Counter. Using import collections only makes the stuff in collections available as collections.something. More on modules and the workings of import in the first few sections of this tutorial chapter.\"))"
   ]
  },
  {
   "cell_type": "code",
   "execution_count": 30,
   "id": "a7f782e3-f3ea-47e9-a30c-20a6c2f5d1bd",
   "metadata": {},
   "outputs": [],
   "source": [
    "counter = Counter()"
   ]
  },
  {
   "cell_type": "code",
   "execution_count": 34,
   "id": "7b3d2805-14bb-4f79-a273-d47ff7b36925",
   "metadata": {},
   "outputs": [],
   "source": [
    "def update(doc):\n",
    "    tokens = doc\n",
    "    counter.update(set(doc))"
   ]
  },
  {
   "cell_type": "code",
   "execution_count": 46,
   "id": "ad38fd21-cc08-4cd7-8bce-a208881f7ae7",
   "metadata": {},
   "outputs": [],
   "source": [
    "df['tokens'] = df['text'].apply(prepare, pipeline=pipeline)"
   ]
  },
  {
   "cell_type": "code",
   "execution_count": 54,
   "id": "b3a78313-f0a5-4e16-8327-392478b6da9b",
   "metadata": {},
   "outputs": [
    {
     "data": {
      "text/plain": [
       "0    [may, first, convey, president, congratulation...\n",
       "1    [fortunate, coincidence, precisely, time, unit...\n",
       "2    [pleasure, extend, mr, president, warmest, con...\n",
       "3    [may, begin, expressing, ambassador, hambro, b...\n",
       "4    [doubt, us, coming, rostrum, wonders, usefulne...\n",
       "Name: tokens, dtype: object"
      ]
     },
     "execution_count": 54,
     "metadata": {},
     "output_type": "execute_result"
    }
   ],
   "source": [
    "df['tokens'].head()"
   ]
  },
  {
   "cell_type": "code",
   "execution_count": 50,
   "id": "eaada589-0a38-4db5-b1e3-52e099764725",
   "metadata": {},
   "outputs": [],
   "source": [
    "df['num_tokens'] = df['tokens'].map(len)"
   ]
  },
  {
   "cell_type": "code",
   "execution_count": 52,
   "id": "dea0189d-8435-40d1-b116-bf7a92c7d511",
   "metadata": {},
   "outputs": [
    {
     "data": {
      "text/plain": [
       "count    7507.000000\n",
       "mean     1480.276142\n",
       "std       635.186356\n",
       "min       187.000000\n",
       "25%      1005.500000\n",
       "50%      1358.000000\n",
       "75%      1848.000000\n",
       "max      5688.000000\n",
       "Name: num_tokens, dtype: float64"
      ]
     },
     "execution_count": 52,
     "metadata": {},
     "output_type": "execute_result"
    }
   ],
   "source": [
    "df['num_tokens'].describe()"
   ]
  },
  {
   "cell_type": "code",
   "execution_count": 56,
   "id": "3a6ca4b9-c934-4783-8c0e-07448616f095",
   "metadata": {},
   "outputs": [],
   "source": [
    "counter = Counter()"
   ]
  },
  {
   "cell_type": "code",
   "execution_count": 64,
   "id": "567746d6-6a31-48ba-b13f-997dc9421266",
   "metadata": {},
   "outputs": [
    {
     "data": {
      "text/plain": [
       "0       None\n",
       "1       None\n",
       "2       None\n",
       "3       None\n",
       "4       None\n",
       "        ... \n",
       "7502    None\n",
       "7503    None\n",
       "7504    None\n",
       "7505    None\n",
       "7506    None\n",
       "Name: tokens, Length: 7507, dtype: object"
      ]
     },
     "execution_count": 64,
     "metadata": {},
     "output_type": "execute_result"
    }
   ],
   "source": [
    "df['tokens'].map(counter.update)"
   ]
  },
  {
   "cell_type": "code",
   "execution_count": 60,
   "id": "b07d6c14-ea16-4490-9bff-470a18abfd4d",
   "metadata": {},
   "outputs": [
    {
     "name": "stdout",
     "output_type": "stream",
     "text": [
      "[('nations', 124508), ('united', 120763), ('international', 117223), ('world', 89421), ('countries', 85734)]\n"
     ]
    }
   ],
   "source": [
    "print(counter.most_common(5))"
   ]
  },
  {
   "cell_type": "code",
   "execution_count": null,
   "id": "1913a391-a139-4580-9f73-db97f0cfb269",
   "metadata": {},
   "outputs": [],
   "source": []
  },
  {
   "cell_type": "code",
   "execution_count": null,
   "id": "32ed43c6-88d0-4cb4-89d2-f03804954577",
   "metadata": {},
   "outputs": [],
   "source": []
  },
  {
   "cell_type": "code",
   "execution_count": null,
   "id": "a52ee85c-2ac8-404d-b46a-72a5cc8f1efe",
   "metadata": {},
   "outputs": [],
   "source": []
  },
  {
   "cell_type": "code",
   "execution_count": null,
   "id": "748fb8b5-300b-4e7c-97ca-8afc652aae48",
   "metadata": {},
   "outputs": [],
   "source": []
  },
  {
   "cell_type": "code",
   "execution_count": null,
   "id": "44e0a786-6333-4e4a-afee-46fab7d9c000",
   "metadata": {},
   "outputs": [],
   "source": []
  },
  {
   "cell_type": "code",
   "execution_count": null,
   "id": "9cdf4925-1652-43a6-8925-1e4998dca3ba",
   "metadata": {},
   "outputs": [],
   "source": []
  },
  {
   "cell_type": "code",
   "execution_count": null,
   "id": "aa2f36cd-0f18-460f-a62f-3081dccb31eb",
   "metadata": {},
   "outputs": [],
   "source": []
  },
  {
   "cell_type": "code",
   "execution_count": null,
   "id": "c0dc3cfe-5432-480a-a09e-e89212c66c7f",
   "metadata": {},
   "outputs": [],
   "source": []
  },
  {
   "cell_type": "code",
   "execution_count": null,
   "id": "fee0f7c5-4bc3-4cbc-af83-3a234142fcef",
   "metadata": {},
   "outputs": [],
   "source": []
  }
 ],
 "metadata": {
  "kernelspec": {
   "display_name": "Python 3 (ipykernel)",
   "language": "python",
   "name": "python3"
  },
  "language_info": {
   "codemirror_mode": {
    "name": "ipython",
    "version": 3
   },
   "file_extension": ".py",
   "mimetype": "text/x-python",
   "name": "python",
   "nbconvert_exporter": "python",
   "pygments_lexer": "ipython3",
   "version": "3.11.7"
  }
 },
 "nbformat": 4,
 "nbformat_minor": 5
}
