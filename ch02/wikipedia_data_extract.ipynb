{
 "cells": [
  {
   "cell_type": "code",
   "execution_count": 4,
   "id": "9d3b9b4b-fbfa-4246-8f7d-57f75dc756c4",
   "metadata": {},
   "outputs": [],
   "source": [
    "import wikipediaapi"
   ]
  },
  {
   "cell_type": "code",
   "execution_count": 16,
   "id": "e34caa71-25ba-423a-94f6-b629de8f66f7",
   "metadata": {},
   "outputs": [
    {
     "name": "stdout",
     "output_type": "stream",
     "text": [
      "Page - Exists: True\n",
      "Page - Id: 23862\n",
      "Page - Title: Python (programming language)\n",
      "Page - Summary: Python is a high-level, general-purpose programming language\n"
     ]
    }
   ],
   "source": [
    "user_agent = \"Wikipedia-API Example (merlin@example.com)\"\n",
    "\n",
    "wiki_wiki = wikipediaapi.Wikipedia(user_agent, \"en\")\n",
    "\n",
    "page_py = wiki_wiki.page(\"Python_(programming_language)\")\n",
    "\n",
    "print(\"Page - Exists: %s\" % page_py.exists())\n",
    "print(\"Page - Id: %s\" % page_py.pageid)\n",
    "print(\"Page - Title: %s\" % page_py.title)\n",
    "print(\"Page - Summary: %s\" % page_py.summary[0:60])"
   ]
  },
  {
   "cell_type": "code",
   "execution_count": 18,
   "id": "718076aa-0d13-4f06-aca1-1ff777006818",
   "metadata": {},
   "outputs": [
    {
     "data": {
      "text/plain": [
       "'Python is a high-level, general-purpose programming language. Its design philosophy emphasizes code readability with the use of significant indentation.\\nPython is dynamically typed and garbage-collected. It supports multiple programming paradigms, including structured (particularly procedural), object-oriented and functional programming. It is often described as a \"batteries included\" language due to its comprehensive standard library.\\nGuido van Rossum began working on Python in the late 1980s as a successor to the ABC programming language and first released it in 1991 as Python 0.9.0. Python 2.0 was released in 2000. Python 3.0, released in 2008, was a major revision not completely backward-compatible with earlier versions. Python 2.7.18, released in 2020, was the last release of Python 2.\\nPython consistently ranks as one of the most popular programming languages, and has gained widespread use in the machine learning community.\\n\\nHistory\\nPython was invented in the late 1980s by Guido van Rossum at Centrum Wiskunde & Informatica (CWI) in the Netherlands as a successor to the ABC programming language, which was inspired by SETL, capable of exception handling and interfacing with the Amoeba operating system. Its implementation began in December 1989. Van Rossum shouldered sole responsibility for the project, as the lead developer, until 12 July 2018, when he announced his \"permanent vacation\" from his responsibilities as Python\\'s \"benevolent dictator for life\" (BDFL), a title the Python community bestowed upon him to reflect his long-term commitment as the project\\'s chief decision-maker (he\\'s since come out of retirement and is self-titled \"BDFL-emeritus\"). In January 2019, active Python core developers elected a five-member Steering Council to lead the project.\\nPython 2.0 was released on 16 October 2000, with many major new features such as list comprehensions, cycle-detecting garbage collection, reference counting, and Unicode support. Python 3.0, released on 3 Decem'"
      ]
     },
     "execution_count": 18,
     "metadata": {},
     "output_type": "execute_result"
    }
   ],
   "source": [
    "page_py.text[:2000]"
   ]
  },
  {
   "cell_type": "code",
   "execution_count": 55,
   "id": "f090c6e1-489c-4635-93ef-d25259e7fba3",
   "metadata": {},
   "outputs": [],
   "source": [
    "wiki_html = wikipediaapi.Wikipedia(\n",
    "    user_agent=user_agent, language=\"zh\", extract_format=wikipediaapi.ExtractFormat.HTML\n",
    ")"
   ]
  },
  {
   "cell_type": "code",
   "execution_count": 57,
   "id": "cd142225-0014-4343-93c0-2975040abdfc",
   "metadata": {},
   "outputs": [
    {
     "name": "stdout",
     "output_type": "stream",
     "text": [
      "Page - Exists: True\n",
      "Page - Id: 243342\n",
      "Page - Title: 俄斯特拉发\n",
      "Page - Summary: <p><b>俄斯特拉發</b>（捷克語：<span lang=\"cs\">Ostrava</span>，<small></\n"
     ]
    }
   ],
   "source": [
    "page_ostrava = wiki_html.page(\"Ostrava\")\n",
    "print(\"Page - Exists: %s\" % page_ostrava.exists())\n",
    "print(\"Page - Id: %s\" % page_ostrava.pageid)\n",
    "print(\"Page - Title: %s\" % page_ostrava.title)\n",
    "print(\"Page - Summary: %s\" % page_ostrava.summary[0:60])"
   ]
  },
  {
   "cell_type": "code",
   "execution_count": 59,
   "id": "218fb51f-3109-4ed6-b34c-e96c71ea580d",
   "metadata": {},
   "outputs": [
    {
     "data": {
      "text/plain": [
       "'<p><b>俄斯特拉發</b>（捷克語：<span lang=\"cs\">Ostrava</span>，<small></small><span title=\"国际音标\">[ˈostrava]</span><small><span>（<span typeof=\"mw:File\"><span></span></span> 聆聽）</span></small>；波蘭語：<span lang=\"pl\">Ostrawa</span>），旧称<b>奥斯特劳</b>（德語：<span lang=\"de\">Ostrau</span>，<small></small><link rel=\"mw-deduplicated-inline-style\" href=\"mw-data:TemplateStyles:r61209503\"><span title=\"国际音标\">[ˈɔstʁaʊ]</span> <span>（<span><span><span></span></span></span>）</span>），位於摩拉維亞東北部，是摩拉維亞-西里西亞州首府，是捷克第三大城市，还是捷克第2大都市圈，仅次于布拉格。同时他还是享有更多法律权利的自治市的行政中心。该市是2015年欧洲文化之都的候选城市。它位于奧得河、奧帕瓦河、奥斯特拉维采河以及卢奇纳河的交汇处。在历史上该市的发展很大程度上受当地优质黑煤的开采以及进一步利用的影响，并在捷克斯洛伐克社会主义时期被人们看作是一个工业城市，被称为“共和国钢都”。现在许多重工业企业已倒闭或是改制。2004年人口估算為315,000。\\n</p>\\n\\n<h2>友好城市</h2>\\n<h2>參考資料</h2>\\n<h2>外部連結</h2>\\n<ul><li>官方網址</li></ul>'"
      ]
     },
     "execution_count": 59,
     "metadata": {},
     "output_type": "execute_result"
    }
   ],
   "source": [
    "page_ostrava.text"
   ]
  },
  {
   "cell_type": "code",
   "execution_count": null,
   "id": "c34f42ee-d702-4d3e-b15f-cfcd3557136d",
   "metadata": {},
   "outputs": [],
   "source": []
  },
  {
   "cell_type": "code",
   "execution_count": null,
   "id": "5a7e2ab5-d4fb-4e6c-8a5b-a5ba52a2e113",
   "metadata": {},
   "outputs": [],
   "source": []
  },
  {
   "cell_type": "code",
   "execution_count": null,
   "id": "d116e73a-4c15-429c-8dd5-47cbd40646e4",
   "metadata": {},
   "outputs": [],
   "source": []
  }
 ],
 "metadata": {
  "kernelspec": {
   "display_name": "Python 3 (ipykernel)",
   "language": "python",
   "name": "python3"
  },
  "language_info": {
   "codemirror_mode": {
    "name": "ipython",
    "version": 3
   },
   "file_extension": ".py",
   "mimetype": "text/x-python",
   "name": "python",
   "nbconvert_exporter": "python",
   "pygments_lexer": "ipython3",
   "version": "3.11.7"
  }
 },
 "nbformat": 4,
 "nbformat_minor": 5
}
